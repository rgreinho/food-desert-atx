{
 "cells": [
  {
   "attachments": {},
   "cell_type": "markdown",
   "metadata": {},
   "source": [
    "This is an experiment to try to map the areas of Austin, TX where a grocery \n",
    "store can be reached by at most 15 minutes of walking.\n",
    "\n",
    "The first iteration will focus on Central and East Austin."
   ]
  },
  {
   "attachments": {},
   "cell_type": "markdown",
   "metadata": {},
   "source": [
    "This is a patchwork based off of various blog posts, library examples and \n",
    "Stackoverflow posts.\n",
    "\n",
    "Here are the main resources:\n",
    "- https://medium.com/@cheng.cesar/15-min-city-8c00dbe279fc\n",
    "- https://geoffboeing.com/2017/08/isochrone-maps-osmnx-python/\n",
    "- https://github.com/gboeing/osmnx-examples/blob/main/notebooks/13-isolines-isochrones.ipynb\n",
    "- https://osmnx.readthedocs.io/en/stable/osmnx.html#module-osmnx.geometries\n",
    "- https://stackoverflow.com/questions/71268239/how-do-i-plot-multiple-isochrones-polygons-using-python-osmnx-library"
   ]
  },
  {
   "cell_type": "code",
   "execution_count": null,
   "metadata": {},
   "outputs": [],
   "source": [
    "import osmnx as ox\n",
    "import pandas as pd\n",
    "import networkx as nx\n",
    "import geopandas as gpd\n",
    "import shapely\n",
    "from shapely.geometry import Point\n",
    "import matplotlib.cm as cm\n",
    "import matplotlib.colors as colors\n",
    "import folium"
   ]
  },
  {
   "cell_type": "code",
   "execution_count": null,
   "metadata": {},
   "outputs": [],
   "source": [
    "# function to get isochrones\n",
    "def get_isochrone(\n",
    "    lon,\n",
    "    lat,\n",
    "    walk_times,\n",
    "    speed=4.5,\n",
    "    name=None,\n",
    "    point_index=None,\n",
    "):\n",
    "    \"\"\"Get isochrones.\"\"\"\n",
    "    loc = (lat, lon)\n",
    "    G = ox.graph_from_point(loc, simplify=True, network_type=\"walk\")\n",
    "    # gdf_nodes = ox.graph_to_gdfs(G, edges=False)\n",
    "    center_node = ox.distance.nearest_nodes(G, lon, lat)\n",
    "\n",
    "    meters_per_minute = speed * 1000 / 60  # km per hour to m per minute\n",
    "    for u, v, k, data in G.edges(data=True, keys=True):\n",
    "        data[\"time\"] = data[\"length\"] / meters_per_minute\n",
    "    polys = []\n",
    "    for walk_time in walk_times:\n",
    "        subgraph = nx.ego_graph(G, center_node, radius=walk_time, distance=\"time\")\n",
    "        node_points = [\n",
    "            Point(data[\"x\"], data[\"y\"]) for node, data in subgraph.nodes(data=True)\n",
    "        ]\n",
    "        polys.append(gpd.GeoSeries(node_points).unary_union.convex_hull)\n",
    "    info = {}\n",
    "    if name:\n",
    "        info[\"name\"] = [name for t in walk_times]\n",
    "    if point_index:\n",
    "        info[\"point_index\"] = [point_index for t in walk_times]\n",
    "    return {**{\"geometry\": polys, \"time\": walk_times}, **info}\n"
   ]
  },
  {
   "cell_type": "code",
   "execution_count": null,
   "metadata": {},
   "outputs": [],
   "source": [
    "# Settings\n",
    "ox.settings.use_cache = True\n",
    "ox.settings.log_console=False"
   ]
  },
  {
   "cell_type": "code",
   "execution_count": null,
   "metadata": {},
   "outputs": [],
   "source": [
    "# Load the list of grocery stores and convert it to a GeoDataFrame.\n",
    "df = pd.read_csv(\"grocery-stores.csv\")\n",
    "gdf = gpd.GeoDataFrame(df, geometry=gpd.points_from_xy(df[\"Longitude\"], df[\"Latitude\"]), crs=\"EPSG:4326\")"
   ]
  },
  {
   "cell_type": "code",
   "execution_count": null,
   "metadata": {},
   "outputs": [],
   "source": [
    "walk_times = [5, 10, 15]\n",
    "isochrones = pd.concat(\n",
    "    [\n",
    "        gpd.GeoDataFrame(\n",
    "            get_isochrone(\n",
    "                r[\"geometry\"].x,\n",
    "                r[\"geometry\"].y,\n",
    "                name=r[\"Name\"],\n",
    "                point_index=i,\n",
    "                walk_times=walk_times,\n",
    "            ),\n",
    "            crs=gdf.crs,\n",
    "        )\n",
    "        for i, r in gdf.iterrows()\n",
    "    ]\n",
    ")\n",
    "\n",
    "# Build the map.\n",
    "gdf = isochrones.set_index([\"time\", \"point_index\"]).copy()\n",
    "# remove shorter walk time from longer walk time polygon to make folium work better\n",
    "for idx in range(len(walk_times) - 1, 0, -1):\n",
    "    gdf.loc[walk_times[idx], \"geometry\"] = (\n",
    "        gdf.loc[walk_times[idx]]\n",
    "        .apply(\n",
    "            lambda r: r[\"geometry\"].symmetric_difference(\n",
    "                gdf.loc[(walk_times[idx - 1], r.name), \"geometry\"]\n",
    "            ),\n",
    "            axis=1,\n",
    "        )\n",
    "        .values\n",
    "    )\n",
    "\n",
    "m = gdf.reset_index().explore(column=\"time\", height=1600, scheme=\"boxplot\")\n",
    "gdf.head(10).explore(m=m, marker_kwds={\"radius\": 3, \"color\": \"red\"})"
   ]
  },
  {
   "cell_type": "code",
   "execution_count": null,
   "metadata": {},
   "outputs": [],
   "source": [
    "# merge overlapping polygons\n",
    "# https://gis.stackexchange.com/questions/334459/how-to-dissolve-overlapping-polygons-using-geopandas\n",
    "mergedpolys = gpd.GeoDataFrame(\n",
    "    geometry=isochrones.groupby(\"time\")[\"geometry\"]\n",
    "    .agg(lambda g: g.unary_union)\n",
    "    .apply(lambda g: [g] if isinstance(g, shapely.geometry.Polygon) else g.geoms)\n",
    "    .explode(),\n",
    "    crs=isochrones.crs,\n",
    ")\n",
    "\n",
    "# visualize merged polygons\n",
    "m = None\n",
    "for i, wt in enumerate(walk_times[::-1]):\n",
    "    m = mergedpolys.loc[[wt]].explore(\n",
    "        m=m,\n",
    "        color=colors.to_hex(cm.get_cmap(\"tab20b\", len(walk_times))(i)),\n",
    "        name=wt,\n",
    "        height=300,\n",
    "        width=500,\n",
    "    )\n",
    "\n",
    "m = gdf.head(10).explore(\n",
    "    m=m, marker_kwds={\"radius\": 3, \"color\": \"red\"}, name=\"schools\"\n",
    ")\n",
    "folium.LayerControl().add_to(m)\n",
    "\n",
    "m"
   ]
  },
  {
   "cell_type": "code",
   "execution_count": null,
   "metadata": {},
   "outputs": [],
   "source": [
    "austin = ox.geocode_to_gdf(\"Austin, Texas\")"
   ]
  },
  {
   "cell_type": "code",
   "execution_count": null,
   "metadata": {},
   "outputs": [],
   "source": [
    "ax = austin.plot(color='white', edgecolor='black', figsize=(16,12))\n",
    "gdf.plot(ax=ax, color='red', markersize=2)"
   ]
  }
 ],
 "metadata": {
  "kernelspec": {
   "display_name": ".venv",
   "language": "python",
   "name": "python3"
  },
  "language_info": {
   "codemirror_mode": {
    "name": "ipython",
    "version": 3
   },
   "file_extension": ".py",
   "mimetype": "text/x-python",
   "name": "python",
   "nbconvert_exporter": "python",
   "pygments_lexer": "ipython3",
   "version": "3.11.4"
  },
  "orig_nbformat": 4
 },
 "nbformat": 4,
 "nbformat_minor": 2
}
